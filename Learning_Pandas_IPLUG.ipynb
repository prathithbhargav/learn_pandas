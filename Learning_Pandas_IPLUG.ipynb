{
  "nbformat": 4,
  "nbformat_minor": 0,
  "metadata": {
    "colab": {
      "provenance": [],
      "authorship_tag": "ABX9TyN8bQLrawYhFprBP2pa31+6",
      "include_colab_link": true
    },
    "kernelspec": {
      "name": "python3",
      "display_name": "Python 3"
    },
    "language_info": {
      "name": "python"
    }
  },
  "cells": [
    {
      "cell_type": "markdown",
      "metadata": {
        "id": "view-in-github",
        "colab_type": "text"
      },
      "source": [
        "<a href=\"https://colab.research.google.com/github/prathithbhargav/learn_pandas/blob/main/Learning_Pandas_IPLUG.ipynb\" target=\"_parent\"><img src=\"https://colab.research.google.com/assets/colab-badge.svg\" alt=\"Open In Colab\"/></a>"
      ]
    },
    {
      "cell_type": "markdown",
      "source": [
        "# Disclaimer No Panda Was Harmed during this process"
      ],
      "metadata": {
        "id": "NM7D9R5qIC8a"
      }
    },
    {
      "cell_type": "code",
      "execution_count": null,
      "metadata": {
        "id": "H9iwb_fIHZ6K"
      },
      "outputs": [],
      "source": [
        "# Getting Pandas\n",
        "import pandas as pd\n"
      ]
    },
    {
      "cell_type": "markdown",
      "source": [
        "# 1. Pandas can do whatever excel can and possibly more"
      ],
      "metadata": {
        "id": "HX7P_4FmI-4H"
      }
    },
    {
      "cell_type": "code",
      "source": [],
      "metadata": {
        "colab": {
          "base_uri": "https://localhost:8080/"
        },
        "id": "YzYF17rhI-Jo",
        "outputId": "dfd48cbc-1255-4117-8546-0542799adcdc"
      },
      "execution_count": null,
      "outputs": [
        {
          "output_type": "stream",
          "name": "stdout",
          "text": [
            "--2024-04-04 20:10:28--  https://github.com/BahramJannesar/NobelPrize/blob/master/dataset/nobel_final.csv\n",
            "Resolving github.com (github.com)... 20.27.177.113\n",
            "Connecting to github.com (github.com)|20.27.177.113|:443... connected.\n",
            "HTTP request sent, awaiting response... 200 OK\n",
            "Length: unspecified [text/html]\n",
            "Saving to: ‘nobel_final.csv’\n",
            "\n",
            "nobel_final.csv         [ <=>                ] 253.15K  1.28MB/s    in 0.2s    \n",
            "\n",
            "2024-04-04 20:10:29 (1.28 MB/s) - ‘nobel_final.csv’ saved [259221]\n",
            "\n"
          ]
        }
      ]
    },
    {
      "cell_type": "code",
      "source": [],
      "metadata": {
        "id": "Oqb7fVfTPuWh"
      },
      "execution_count": null,
      "outputs": []
    }
  ]
}